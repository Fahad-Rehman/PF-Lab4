{
 "cells": [
  {
   "cell_type": "markdown",
   "metadata": {},
   "source": [
    "# Programming Exercise Lab 4<br>Fahad Abdul Rehman"
   ]
  },
  {
   "cell_type": "code",
   "execution_count": 1,
   "metadata": {},
   "outputs": [
    {
     "name": "stdout",
     "output_type": "stream",
     "text": [
      "Enter the value of a: 2\n",
      "Enter the value of b: 5\n",
      "Enter the value of c: 2\n",
      "The value of x1 is:  -2.0\n",
      "The value of x2 is:  -8.0\n"
     ]
    }
   ],
   "source": [
    "# Question 1\n",
    "#Solving quadratic equation related questions\n",
    "\n",
    "from math import sqrt\n",
    "a = int(input(\"Enter the value of a: \"))\n",
    "b = int(input(\"Enter the value of b: \"))\n",
    "c = int(input(\"Enter the value of c: \"))\n",
    "if 2*a == 0:\n",
    "    print(\"The equation cannot solve as there is a zero division\")\n",
    "else:\n",
    "    x1 = (-b + sqrt(b**2 - 4*a*c)) / 2*a\n",
    "    x2 = (-b - sqrt(b**2 - 4*a*c)) / 2*a\n",
    "    print(\"The value of x1 is: \",x1)\n",
    "    print(\"The value of x2 is: \",x2)"
   ]
  },
  {
   "cell_type": "code",
   "execution_count": 1,
   "metadata": {
    "scrolled": true
   },
   "outputs": [
    {
     "name": "stdout",
     "output_type": "stream",
     "text": [
      "Enter the first term: 4\n",
      "Enter the common difference: 3\n",
      "Enter the value of the term you want to calculate: 36\n",
      "The value of  36 th term in arithmetic sequence is:  109\n",
      "Do you want to calculate another value? Type (yes or no): yes\n",
      "Enter the value of the term you want to calculate: 76\n",
      "The value of  76 th term in arithmetic sequence is:  229\n",
      "Do you want to calculate another value? Type (yes or no): yes\n",
      "Enter the value of the term you want to calculate: 85\n",
      "The value of  85 th term in arithmetic sequence is:  256\n",
      "Do you want to calculate another value? Type (yes or no): no\n"
     ]
    }
   ],
   "source": [
    "# Question 2\n",
    "#Calculating arithmetic sequence of n-th term\n",
    "\n",
    "first_term = int(input(\"Enter the first term: \"))\n",
    "comm_diff = int(input(\"Enter the common difference: \"))\n",
    "n = int(input(\"Enter the value of the term you want to calculate: \"))\n",
    "final_term = first_term + (n - 1) * comm_diff\n",
    "print(\"The value of \",n,\"th term in arithmetic sequence is: \",final_term)\n",
    "#This loop will find values of n'th term as long as you want to find the values\n",
    "repeat = True\n",
    "while repeat:\n",
    "    ask = str(input(\"Do you want to calculate another value? Type (yes or no): \"))\n",
    "    if ask == \"yes\":\n",
    "        n = int(input(\"Enter the value of the term you want to calculate: \"))\n",
    "        final_term = first_term + (n - 1) * comm_diff\n",
    "        print(\"The value of \",n,\"th term in arithmetic sequence is: \",final_term)\n",
    "    else:\n",
    "        repeat = False"
   ]
  },
  {
   "cell_type": "code",
   "execution_count": 52,
   "metadata": {},
   "outputs": [
    {
     "name": "stdout",
     "output_type": "stream",
     "text": [
      "Enter the word: Eevee\n",
      "The word is Palindrome\n"
     ]
    }
   ],
   "source": [
    "#Question 3\n",
    "#Checking whether given string is palindrome or not\n",
    "\n",
    "word = str(input(\"Enter the word: \"))\n",
    "word_casefold = word.casefold()\n",
    "word_reversed = ''.join(reversed(word_casefold))\n",
    "\n",
    "if word_casefold == word_reversed:\n",
    "    print(\"The word is Palindrome\",)\n",
    "else:\n",
    "    print(\"Sorry\")"
   ]
  },
  {
   "cell_type": "code",
   "execution_count": 59,
   "metadata": {
    "scrolled": true
   },
   "outputs": [
    {
     "name": "stdout",
     "output_type": "stream",
     "text": [
      "Enter your name: Fahad\n",
      "Enter your Fathers name: Abdul Rehman Khatri\n",
      "Enter your Roll number: 141707\n",
      "Enter the name of 1st Subject: Mathematics\n",
      "Enter the marks obtained of 1st Subject: 92\n",
      "Enter the total marks of first subject: 100\n",
      "Enter the name of 2nd Subject: Chemistry\n",
      "Enter the marks obtained of 2nd Subject: 85\n",
      "Enter the total marks of second subject: 100\n",
      "Enter the name of 3rd Subject: Physics\n",
      "Enter the marks obtained of 3rd Subject: 78\n",
      "Enter the total marks of third subject: 100\n",
      "Enter the name of 4th Subject: English\n",
      "Enter the marks obtained of 4th Subject: 77\n",
      "Enter the total marks of fourth subject: 100\n",
      "Enter the name of 5th Subject: Urdu\n",
      "Enter the marks obtained of 5th Subject: 84\n",
      "Enter the total marks of fifth subject: 100\n",
      "\u001b[1m\n",
      "\n",
      "\t\t\t\t\t\t\tRESULT\n",
      "\n",
      "\tName: \u001b[0m Fahad\n",
      "\u001b[1m\tFather's Name: \u001b[0m Abdul Rehman Khatri\n",
      "\u001b[1m\tRoll No: \u001b[0m 141707\n",
      "\u001b[1m\n",
      "\n",
      "\t\t   SUBJECTS\t\t     TOTAL MARKS\t\t   MARKS OBTAINED\n",
      "\u001b[1m\n",
      "\n",
      "\t\t1. Mathematics \u001b[0m\t\t\t 100 \t\t\t\t 92\n",
      "\u001b[1m\n",
      "\n",
      "\t\t2. Chemistry \u001b[0m\t\t\t 100 \t\t\t\t 85\n",
      "\u001b[1m\n",
      "\n",
      "\t\t3. Physics \u001b[0m\t\t\t 100 \t\t\t\t 78\n",
      "\u001b[1m\n",
      "\n",
      "\t\t4. English \u001b[0m\t\t\t 100 \t\t\t\t 77\n",
      "\u001b[1m\n",
      "\n",
      "\t\t5. Urdu \u001b[0m\t\t\t 100 \t\t\t\t 84\n",
      "\u001b[1m\n",
      "\n",
      "\n",
      "Percentage Obtained: \u001b[0m 83.2 %\n",
      "\u001b[1mGrade Obtained: \u001b[0mA1\n",
      "\u001b[1m\n",
      "Congratulations You have passed with Distinction\u001b[0m\n"
     ]
    }
   ],
   "source": [
    "#Question 4\n",
    "#Creating Marksheet\n",
    "\n",
    "name = input(\"Enter your name: \")\n",
    "fathers_name = input(\"Enter your Fathers name: \")\n",
    "roll_no = int(input(\"Enter your Roll number: \"))\n",
    "\n",
    "subject1 = input(\"Enter the name of 1st Subject: \")\n",
    "marks1 = int(input(\"Enter the marks obtained of 1st Subject: \"))\n",
    "total_marks1 = int(input(\"Enter the total marks of first subject: \"))\n",
    "\n",
    "subject2 = input(\"Enter the name of 2nd Subject: \")\n",
    "marks2 = int(input(\"Enter the marks obtained of 2nd Subject: \"))\n",
    "total_marks2 = int(input(\"Enter the total marks of second subject: \"))\n",
    "\n",
    "subject3 = input(\"Enter the name of 3rd Subject: \")\n",
    "marks3 = int(input(\"Enter the marks obtained of 3rd Subject: \"))\n",
    "total_marks3 = int(input(\"Enter the total marks of third subject: \"))\n",
    "\n",
    "subject4 = input(\"Enter the name of 4th Subject: \")\n",
    "marks4 = int(input(\"Enter the marks obtained of 4th Subject: \"))\n",
    "total_marks4 = int(input(\"Enter the total marks of fourth subject: \"))\n",
    "\n",
    "subject5 = input(\"Enter the name of 5th Subject: \")\n",
    "marks5 = int(input(\"Enter the marks obtained of 5th Subject: \"))\n",
    "total_marks5 = int(input(\"Enter the total marks of fifth subject: \"))\n",
    "\n",
    "print(\"\\033[1m\" + \"\\n\\n\\t\\t\\t\\t\\t\\t\\tRESULT\")\n",
    "print(\"\\n\\tName: \" + \"\\033[0m\",name)\n",
    "print(\"\\033[1m\" + \"\\tFather's Name: \" + \"\\033[0m\",fathers_name)\n",
    "print(\"\\033[1m\" + \"\\tRoll No: \" + \"\\033[0m\",roll_no)\n",
    "print(\"\\033[1m\" + \"\\n\\n\\t\\t   SUBJECTS\" + \"\\t\\t     TOTAL MARKS\" + \"\\t\\t   MARKS OBTAINED\")\n",
    "print(\"\\033[1m\" + \"\\n\\n\\t\\t1.\",subject1,\"\\033[0m\" + \"\\t\\t\\t\",total_marks1,\"\\t\\t\\t\\t\",marks1)\n",
    "print(\"\\033[1m\" + \"\\n\\n\\t\\t2.\",subject2,\"\\033[0m\" + \"\\t\\t\\t\",total_marks2,\"\\t\\t\\t\\t\",marks2)\n",
    "print(\"\\033[1m\" + \"\\n\\n\\t\\t3.\",subject3,\"\\033[0m\" + \"\\t\\t\\t\",total_marks3,\"\\t\\t\\t\\t\",marks3)\n",
    "print(\"\\033[1m\" + \"\\n\\n\\t\\t4.\",subject4,\"\\033[0m\" + \"\\t\\t\\t\",total_marks4,\"\\t\\t\\t\\t\",marks4)\n",
    "print(\"\\033[1m\" + \"\\n\\n\\t\\t5.\",subject5,\"\\033[0m\" + \"\\t\\t\\t\",total_marks5,\"\\t\\t\\t\\t\",marks5)\n",
    "\n",
    "sum = marks1 + marks2 + marks3 + marks4 + marks5\n",
    "total_marks = 500\n",
    "percentage = (sum / total_marks) * 100\n",
    "print(\"\\033[1m\" + \"\\n\\n\\nPercentage Obtained: \" + \"\\033[0m\",percentage,\"%\")\n",
    "average = sum / 5\n",
    "if(average>=80 and average<=100):\n",
    "    print(\"\\033[1m\" + \"Grade Obtained: \" + \"\\033[0m\" + \"A1\")\n",
    "elif(average>=70 and average<=79.99):\n",
    "    print(\"\\033[1m\" + \"Grade Obtained: \" + \"\\033[0m\" + \"A\")\n",
    "elif(average>=60 and average<=69.99):\n",
    "    print(\"\\033[1m\" + \"Grade Obtained: \" + \"\\033[0m\" + \"B\")\n",
    "elif(average>=50 and average<=59.99):\n",
    "    print(\"\\033[1m\" + \"Grade Obtained: \" + \"\\033[0m\" + \"C\")\n",
    "elif(average>=40 and average<=49.99):\n",
    "    print(\"\\033[1m\" + \"Grade Obtained: \" + \"\\033[0m\" + \"D\")\n",
    "elif(average>=33 and average<=39.99):\n",
    "    print(\"\\033[1m\" + \"Grade Obtained: \" + \"\\033[0m\" + \"E\")\n",
    "else:\n",
    "    print(\"\\033[1m\" + \"You Failed\" + \"\\033[0m\")\n",
    "print(\"\\033[1m\" + \"\\nCongratulations You have passed with Distinction\" + \"\\033[0m\")"
   ]
  },
  {
   "cell_type": "code",
   "execution_count": 50,
   "metadata": {},
   "outputs": [
    {
     "name": "stdout",
     "output_type": "stream",
     "text": [
      "Enter the initial range: 7\n",
      "Enter the final range: 7\n",
      "1 2 3 4 5 6 \n",
      "2 4 6 8 10 12 \n",
      "3 6 9 12 15 18 \n",
      "4 8 12 16 20 24 \n",
      "5 10 15 20 25 30 \n",
      "6 12 18 24 30 36 \n"
     ]
    }
   ],
   "source": [
    "#Question 5\n",
    "#Creating table by taking initial and final value as input\n",
    "initial_value = int(input(\"Enter the initial range: \"))\n",
    "final_value = int(input(\"Enter the final range: \" ))\n",
    "\n",
    "for i in range(1, initial_value):\n",
    "    for j in range(1, final_value):\n",
    "        k = i * j\n",
    "        print(k, end=\" \")\n",
    "    print()"
   ]
  },
  {
   "cell_type": "code",
   "execution_count": 67,
   "metadata": {
    "scrolled": true
   },
   "outputs": [
    {
     "name": "stdout",
     "output_type": "stream",
     "text": [
      "[[16, 11], [7, 10]]\n"
     ]
    }
   ],
   "source": [
    "#Question 6\n",
    "# Program to add two square matrices\n",
    "A = [[7, -2],\n",
    "     [2, 4]]\n",
    "\n",
    "B = [[9, 13],\n",
    "     [5, 6]]\n",
    "\n",
    "result = [[0, 0],\n",
    "          [0, 0]]\n",
    "\n",
    "for i in range(0, 2):\n",
    "    for j in range(0, 2):\n",
    "        result[i][j] = A[i][j] + B[i][j]\n",
    "print(result)"
   ]
  },
  {
   "cell_type": "code",
   "execution_count": 69,
   "metadata": {},
   "outputs": [
    {
     "name": "stdout",
     "output_type": "stream",
     "text": [
      "[[33, 23], [61, 97]]\n"
     ]
    }
   ],
   "source": [
    "#Question 7\n",
    "# Program to multiply two square matrices\n",
    "A = [[1, 4],\n",
    "     [8, 3]]\n",
    "\n",
    "B = [[5, 11],\n",
    "     [7, 3]]\n",
    "\n",
    "mul = [[0, 0],\n",
    "       [0, 0]]\n",
    "\n",
    "for i in range(0, 2):\n",
    "    for j in range(0, 2):\n",
    "        for k in range(0, 2):\n",
    "            mul[i][j] += A[i][k] * B[k][j]\n",
    "print(mul)"
   ]
  }
 ],
 "metadata": {
  "kernelspec": {
   "display_name": "Python 3",
   "language": "python",
   "name": "python3"
  },
  "language_info": {
   "codemirror_mode": {
    "name": "ipython",
    "version": 3
   },
   "file_extension": ".py",
   "mimetype": "text/x-python",
   "name": "python",
   "nbconvert_exporter": "python",
   "pygments_lexer": "ipython3",
   "version": "3.7.3"
  }
 },
 "nbformat": 4,
 "nbformat_minor": 2
}
